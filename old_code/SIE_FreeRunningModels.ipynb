{
 "cells": [
  {
   "cell_type": "code",
   "execution_count": 2,
   "id": "082be8eb",
   "metadata": {},
   "outputs": [],
   "source": [
    "import netCDF4 as nc\n",
    "import numpy as np\n",
    "import matplotlib.pyplot as plt\n",
    "import colorcet as cc\n",
    "import cartopy\n",
    "import cartopy.crs as ccrs\n",
    "import csv\n",
    "import copy as cp\n",
    "import random as rand\n",
    "from scipy.stats import pearsonr, linregress\n",
    "from scipy.signal import detrend\n",
    "from scipy.io import loadmat\n",
    "from matplotlib import cm, colors\n",
    "from numba import njit, vectorize"
   ]
  },
  {
   "cell_type": "code",
   "execution_count": 3,
   "id": "61e1884b",
   "metadata": {},
   "outputs": [],
   "source": [
    "#The interval of time we're looking at (1980 to 2019)\n",
    "startyear = 1980\n",
    "endyear = 2010\n",
    "timeseries = np.arange(startyear, endyear + 1, 1) #yearly\n",
    "timeseries_cont = np.arange(startyear, endyear + 1, 1/12) #monthly\n",
    "\n",
    "#dictionary of months\n",
    "monthsnum = np.arange(1,13,1)\n",
    "monthsind = np.arange(0,12,1)\n",
    "monthsstr = ['01','02','03','04','05','06','07','08','09','10','11','12']\n",
    "monthsnam = ['Jan','Feb','Mar','Apr','May','Jun','Jul','Aug','Sep','Oct','Nov','Dec']\n",
    "months = {1:'January',2:'February',3:'March',\n",
    "          4:'April',5:'May',6:'June',7:'July',8:'August',\n",
    "          9:'September',10:'October',11:'November',12:'December'}\n",
    "names = ['NSIDC','Had2CIS','CANCM4','GEM_NEMO','COMBINED']\n",
    "ensembles = np.arange(0,10,1)\n",
    "\n",
    "#colours for graphing\n",
    "col = ['navy','mediumblue','mediumslateblue','violet',\n",
    "       'maroon','red','orange','gold','lime',\n",
    "       'forestgreen','purple','darkturquoise']\n",
    "\n",
    "#regions\n",
    "PanAntarctic = [0,360]\n",
    "Weddell = [300,20]\n",
    "Indian = [20,90]\n",
    "WestPacific = [90,160]\n",
    "Ross = [160,230]\n",
    "Amundsen = [230,300]"
   ]
  },
  {
   "cell_type": "code",
   "execution_count": 4,
   "id": "e1d91e99",
   "metadata": {},
   "outputs": [],
   "source": [
    "#function to calculate sea ice extent from sea ice fraction/concentration\n",
    "\n",
    "@njit\n",
    "def calculate_SIE (SIC_array, latdat, londat, region):\n",
    "    '''\n",
    "    SIC_array: 2D array of SIC values in the form of [lat][lon]\n",
    "    lat: 1D array of all latitudes\n",
    "    lon: 1D array of all longitudes\n",
    "    '''\n",
    "    \n",
    "    #Will keep track of sea ice extent\n",
    "    SIE_counter = 0\n",
    "\n",
    "    #iterate over all latitudes and longitudes\n",
    "    for i in range(len(latdat)): \n",
    "        for j in range(len(londat)):\n",
    "            \n",
    "            #only consider SOUTHERN hemisphere\n",
    "            if latdat[i] < 0:\n",
    "                \n",
    "                #only consider a certain region\n",
    "                if region[0] > region[1]:\n",
    "                    if londat[j] >= region[0] or londat[j] <= region[1]:\n",
    "\n",
    "                        SIC = SIC_array[i][j]\n",
    "\n",
    "                        if SIC >= 0.15: \n",
    "                            SIE_counter += (111.12**2) * np.abs(np.cos(latdat[i]*(np.pi/180)))\n",
    "                            #km^2 area of each 1x1deg grid cell near south pole\n",
    "                else:\n",
    "                    if londat[j] >= region[0] and londat[j] <= region[1]:\n",
    "\n",
    "                        SIC = SIC_array[i][j]\n",
    "\n",
    "                        if SIC >= 0.15: \n",
    "                            SIE_counter += (111.12**2) * np.abs(np.cos(latdat[i]*(np.pi/180)))\n",
    "                            #km^2 area of each 1x1deg grid cell near south pole\n",
    "                            \n",
    "    return SIE_counter/1e6\n",
    "\n",
    "\n",
    "\n",
    "#function to write data to .txt file\n",
    "\n",
    "def writedat(yearlydata, filename, loc = \"Region_PanAntarcticSIE\"):\n",
    "    '''\n",
    "    yearlydata: (dictionary) the data to be written to file, in the form of a dictionary\n",
    "    filename: (string) the name of the file, excluding the .txt\n",
    "    '''\n",
    "\n",
    "    #First, create file\n",
    "    #x is to create file\n",
    "    #w is to rewrite file. If file doesn't exist, create file.\n",
    "    #a is to append to file. If file doesn't exist, create file.\n",
    "    #r is to read file\n",
    "\n",
    "    f = open(loc + \"/\" + str(filename) + \".txt\", \"w\")\n",
    "\n",
    "    #go year by year\n",
    "    for year in yearlydata.keys():\n",
    "\n",
    "        f.write(str(year) + \" \")\n",
    "\n",
    "        #SIE month by month for the above year\n",
    "        for val in yearlydata[year]:\n",
    "\n",
    "            f.write(str(val) + \" \")\n",
    "\n",
    "        f.write(\"\\n\")\n",
    "\n",
    "    f.close()\n",
    "    \n",
    "    \n",
    "    \n",
    "#function to retrieve data from .txt file\n",
    "\n",
    "def retrievedat (filename, loc = \"Region_PanAntarcticSIE\"):\n",
    "    '''\n",
    "    retrieve data from a .txt file in a specific format\n",
    "    '''\n",
    "    \n",
    "    #dictionary full of data to be returned\n",
    "    datadict = {}\n",
    "    \n",
    "    f = open(loc + \"/\" + str(filename) + \".txt\", \"r\")\n",
    "    \n",
    "    #go line by line\n",
    "    for line in f:\n",
    "        \n",
    "        #split line into an array\n",
    "        line.replace('\\n', '')\n",
    "        linearray = line.split()\n",
    "        \n",
    "        year = np.int64(linearray[0])\n",
    "        dat = linearray[1:]\n",
    "        \n",
    "        #convert nones to None and values to floats\n",
    "        for i,d in enumerate(dat):\n",
    "            if d == 'None':\n",
    "                dat[i] = np.nan\n",
    "            else:\n",
    "                dat[i] = np.float64(d)\n",
    "        \n",
    "        datadict[year] = dat\n",
    "    \n",
    "    f.close()\n",
    "    \n",
    "    return datadict\n",
    "\n",
    "\n",
    "\n",
    "#function to calculate average of array w/ None types\n",
    "\n",
    "def average (array):\n",
    "    \n",
    "    net = 0\n",
    "    count = 0\n",
    "    \n",
    "    for dat in array:\n",
    "        if dat is not None and np.isnan(dat) == False:\n",
    "            net += dat\n",
    "            count += 1\n",
    "            \n",
    "    return net/count\n",
    "\n",
    "\n",
    "#function to calculate average between CANCM4 and GEM_NEMO\n",
    "\n",
    "def model_average (model1, model2, N=2):\n",
    "    \n",
    "    dictaveraged = {}\n",
    "    \n",
    "    for year in timeseries:\n",
    "        \n",
    "        dictaveraged[year]= [np.nan]*12\n",
    "        \n",
    "        for leadtime in monthsind:\n",
    "            \n",
    "            net = model1[year][leadtime] + model2[year][leadtime]\n",
    "            ave = net/N #average\n",
    "            \n",
    "            dictaveraged[year][leadtime] = ave\n",
    "    \n",
    "    return dictaveraged\n",
    "\n",
    "\n",
    "#function to retrieve all data pertaining to a specific month of the year\n",
    "\n",
    "def DataForMonth (dataset, month, initmonth = 1):\n",
    "    \n",
    "    #Determine what type the input is in (e.g. array or dictionary)\n",
    "    if type(dataset) == dict:\n",
    "        dataset1D = Dict1D(dataset)\n",
    "    else:\n",
    "        dataset1D = dataset\n",
    "            \n",
    "    #Now pick out all the data corresponding to the specified month\n",
    "    #e.g. if month = 1 and initmonth = 1, then it should pick out index 0, index 12, index 24, etc...\n",
    "    \n",
    "    index = (month - 1) - (initmonth - 1)\n",
    "    datasetmonth = []\n",
    "\n",
    "    if month < initmonth:\n",
    "        index += 12\n",
    "    while index < len(dataset1D):\n",
    "        datasetmonth.append(dataset1D[index])\n",
    "        index += 12 #jump forward 12 months\n",
    "            \n",
    "    return datasetmonth\n",
    "\n",
    "\n",
    "#Put a dictionary of data into a 1D array\n",
    "\n",
    "def Dict1D (dataset):\n",
    "    \n",
    "    #put all the data into a 1D array\n",
    "    \n",
    "    dataset1D = []\n",
    "    for year in dataset.keys():\n",
    "        for im in monthsind:\n",
    "            dataset1D.append(dataset[year][im])\n",
    "    \n",
    "    return dataset1D\n"
   ]
  },
  {
   "cell_type": "markdown",
   "id": "96346828",
   "metadata": {},
   "source": [
    "# CanCM4"
   ]
  },
  {
   "cell_type": "code",
   "execution_count": 69,
   "id": "44bb311a",
   "metadata": {},
   "outputs": [
    {
     "name": "stderr",
     "output_type": "stream",
     "text": [
      "<ipython-input-69-66dd71718029>:3: DeprecationWarning: `np.bool` is a deprecated alias for the builtin `bool`. To silence this warning, use `bool` by itself. Doing this will not modify any behavior and is safe. If you specifically wanted the numpy scalar type, use `np.bool_` here.\n",
      "Deprecated in NumPy 1.20; for more details and guidance: https://numpy.org/devdocs/release/1.20.0-notes.html#deprecations\n",
      "  SICdata = np.array(file.variables['sic'][:])/100\n",
      "<ipython-input-69-66dd71718029>:4: DeprecationWarning: `np.bool` is a deprecated alias for the builtin `bool`. To silence this warning, use `bool` by itself. Doing this will not modify any behavior and is safe. If you specifically wanted the numpy scalar type, use `np.bool_` here.\n",
      "Deprecated in NumPy 1.20; for more details and guidance: https://numpy.org/devdocs/release/1.20.0-notes.html#deprecations\n",
      "  latitudes = np.array(file.variables['lat'][:])\n",
      "<ipython-input-69-66dd71718029>:5: DeprecationWarning: `np.bool` is a deprecated alias for the builtin `bool`. To silence this warning, use `bool` by itself. Doing this will not modify any behavior and is safe. If you specifically wanted the numpy scalar type, use `np.bool_` here.\n",
      "Deprecated in NumPy 1.20; for more details and guidance: https://numpy.org/devdocs/release/1.20.0-notes.html#deprecations\n",
      "  longitudes = np.array(file.variables['lon'][:])\n"
     ]
    }
   ],
   "source": [
    "filename = \"CanCM4free\\\\sic_OImon_CanCM4_historical_rcp45_r1i1p1_196101-203512_1x1.nc\"\n",
    "file = nc.Dataset(filename, 'r')\n",
    "SICdata = np.array(file.variables['sic'][:])/100\n",
    "latitudes = np.array(file.variables['lat'][:])\n",
    "longitudes = np.array(file.variables['lon'][:])\n",
    "file.close()"
   ]
  },
  {
   "cell_type": "code",
   "execution_count": 70,
   "id": "d021331e",
   "metadata": {},
   "outputs": [],
   "source": [
    "CanCM4dat_free = []\n",
    "\n",
    "for dat_yrmt in SICdata: #get data for a specific year and month\n",
    "    \n",
    "    #calculate SIE\n",
    "    SIE = calculate_SIE(dat_yrmt, latitudes, longitudes, PanAntarctic)\n",
    "    CanCM4dat_free.append(SIE)"
   ]
  },
  {
   "cell_type": "code",
   "execution_count": 71,
   "id": "2259d68b",
   "metadata": {},
   "outputs": [
    {
     "data": {
      "text/plain": [
       "[<matplotlib.lines.Line2D at 0x1cd82deac40>]"
      ]
     },
     "execution_count": 71,
     "metadata": {},
     "output_type": "execute_result"
    },
    {
     "data": {
      "image/png": "[encoded data removed]",
      "text/plain": [
       "<Figure size 432x288 with 1 Axes>"
      ]
     },
     "metadata": {
      "needs_background": "light"
     },
     "output_type": "display_data"
    }
   ],
   "source": [
    "plt.plot(np.arange(1961, 2036, 1/12),CanCM4dat_free)"
   ]
  },
  {
   "cell_type": "markdown",
   "id": "992279e9",
   "metadata": {},
   "source": [
    "# CanESM5"
   ]
  },
  {
   "cell_type": "code",
   "execution_count": 9,
   "id": "6124c8c7",
   "metadata": {},
   "outputs": [
    {
     "name": "stderr",
     "output_type": "stream",
     "text": [
      "<ipython-input-9-816a9d5f6ba5>:3: DeprecationWarning: `np.bool` is a deprecated alias for the builtin `bool`. To silence this warning, use `bool` by itself. Doing this will not modify any behavior and is safe. If you specifically wanted the numpy scalar type, use `np.bool_` here.\n",
      "Deprecated in NumPy 1.20; for more details and guidance: https://numpy.org/devdocs/release/1.20.0-notes.html#deprecations\n",
      "  SICdata = np.array(file.variables['siconc'][:])/100\n",
      "<ipython-input-9-816a9d5f6ba5>:4: DeprecationWarning: `np.bool` is a deprecated alias for the builtin `bool`. To silence this warning, use `bool` by itself. Doing this will not modify any behavior and is safe. If you specifically wanted the numpy scalar type, use `np.bool_` here.\n",
      "Deprecated in NumPy 1.20; for more details and guidance: https://numpy.org/devdocs/release/1.20.0-notes.html#deprecations\n",
      "  latitudes = np.array(file.variables['lat'][:])\n",
      "<ipython-input-9-816a9d5f6ba5>:5: DeprecationWarning: `np.bool` is a deprecated alias for the builtin `bool`. To silence this warning, use `bool` by itself. Doing this will not modify any behavior and is safe. If you specifically wanted the numpy scalar type, use `np.bool_` here.\n",
      "Deprecated in NumPy 1.20; for more details and guidance: https://numpy.org/devdocs/release/1.20.0-notes.html#deprecations\n",
      "  longitudes = np.array(file.variables['lon'][:])\n"
     ]
    }
   ],
   "source": [
    "filename = \"CanESMfree\\\\siconc_monthly_CanESM5_185001-201412_1x1.nc\"\n",
    "file = nc.Dataset(filename, 'r')\n",
    "SICdata = np.array(file.variables['siconc'][:])/100\n",
    "latitudes = np.array(file.variables['lat'][:])\n",
    "longitudes = np.array(file.variables['lon'][:])\n",
    "file.close()\n",
    "\n",
    "#get rid of stand-in values of siconc for landmasses\n",
    "SICdata[SICdata > 100] = 0"
   ]
  },
  {
   "cell_type": "code",
   "execution_count": 11,
   "id": "ba61ab98",
   "metadata": {},
   "outputs": [
    {
     "name": "stderr",
     "output_type": "stream",
     "text": [
      "C:\\Users\\Robert payne\\anaconda3\\lib\\site-packages\\numba\\core\\ir_utils.py:2119: NumbaPendingDeprecationWarning: \u001b[1m\n",
      "Encountered the use of a type that is scheduled for deprecation: type 'reflected list' found for argument 'region' of function 'calculate_SIE'.\n",
      "\n",
      "For more information visit https://numba.pydata.org/numba-doc/latest/reference/deprecation.html#deprecation-of-reflection-for-list-and-set-types\n",
      "\u001b[1m\n",
      "File \"<ipython-input-4-7aa40ad9c9fe>\", line 4:\u001b[0m\n",
      "\u001b[1m@njit\n",
      "\u001b[1mdef calculate_SIE (SIC_array, latdat, londat, region):\n",
      "\u001b[0m\u001b[1m^\u001b[0m\u001b[0m\n",
      "\u001b[0m\n",
      "  warnings.warn(NumbaPendingDeprecationWarning(msg, loc=loc))\n"
     ]
    }
   ],
   "source": [
    "CanESM5dat_free = []\n",
    "\n",
    "for dat_yrmt in SICdata: #get data for a specific year and month\n",
    "    \n",
    "    #calculate SIE\n",
    "    SIE = calculate_SIE(dat_yrmt, latitudes, longitudes, PanAntarctic)\n",
    "    CanESM5dat_free.append(SIE)"
   ]
  },
  {
   "cell_type": "code",
   "execution_count": 51,
   "id": "9dd65b7a",
   "metadata": {},
   "outputs": [
    {
     "data": {
      "image/png": "[encoded data removed]",
      "text/plain": [
       "<Figure size 432x288 with 1 Axes>"
      ]
     },
     "metadata": {
      "needs_background": "light"
     },
     "output_type": "display_data"
    }
   ],
   "source": [
    "a,b=[1704,1750]\n",
    "\n",
    "#ind0 = 1850\n",
    "#ind1560 = 1980 \n",
    "#ind1704 = 1992\n",
    "\n",
    "#b = 1850\n",
    "#m = 12\n",
    "\n",
    "plt.plot(np.arange(1850, 2015, 1/12)[a:b],CanESM5dat_free[a:b])\n",
    "plt.axvline(1992,color='red')\n",
    "plt.grid(color='lightgrey')"
   ]
  },
  {
   "cell_type": "code",
   "execution_count": 62,
   "id": "d699a3b8",
   "metadata": {},
   "outputs": [],
   "source": [
    "def get_yr_ind (yr):\n",
    "    return 12*(yr-1850)"
   ]
  },
  {
   "cell_type": "code",
   "execution_count": 67,
   "id": "1e155aa5",
   "metadata": {},
   "outputs": [
    {
     "data": {
      "text/plain": [
       "1920"
      ]
     },
     "execution_count": 67,
     "metadata": {},
     "output_type": "execute_result"
    }
   ],
   "source": [
    "get_yr_ind(2010)"
   ]
  },
  {
   "cell_type": "code",
   "execution_count": null,
   "id": "dbb11aa6",
   "metadata": {},
   "outputs": [],
   "source": []
  }
 ],
 "metadata": {
  "kernelspec": {
   "display_name": "Python 3",
   "language": "python",
   "name": "python3"
  },
  "language_info": {
   "codemirror_mode": {
    "name": "ipython",
    "version": 3
   },
   "file_extension": ".py",
   "mimetype": "text/x-python",
   "name": "python",
   "nbconvert_exporter": "python",
   "pygments_lexer": "ipython3",
   "version": "3.8.8"
  }
 },
 "nbformat": 4,
 "nbformat_minor": 5
}
